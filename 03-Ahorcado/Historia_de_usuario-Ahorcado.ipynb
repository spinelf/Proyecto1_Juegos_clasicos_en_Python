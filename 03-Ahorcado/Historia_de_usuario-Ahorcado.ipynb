{
 "cells": [
  {
   "cell_type": "markdown",
   "metadata": {},
   "source": [
    "### AHORCADO\n",
    "\n",
    "#### DESCRIPCIÓN:\n",
    "- El jugador tiene que adivinar una palabra.\n",
    "- El jugador tiene que ir adivinando letras hasta completar la palabra.\n",
    "\n",
    "#### REGLAS DEL JUEGO:\n",
    "- El jugador tiene 10 vidas.\n",
    "- Por cada fallo se dibuja una parte del cuerpo en la horca y se pierde una vida.\n",
    "- El juego termina si el jugador adivina la palabra o si se dibuja el cuerpo entero en la horca y el jugador pierde todas sus vidas.\n",
    "\n",
    "#### CRITERIOS DE ACEPTACIÓN:\n",
    "- Inicializa el tablero de juego con guiones bajos (\"_\") para representar las letras no adivinadas.\n",
    "- Si el jugador adivinador adivina una letra correctamente, se revela en su lugar correspondiente.\n",
    "- Si el jugador adivinador adivina incorrectamente, se dibuja una parte del cuerpo en la horca.\n",
    "- Lleva un seguimiento de las letras adivinadas y los intentos fallidos.\n",
    "- Utiliza un bucle `while` para permitir que el jugador haga múltiples intentos hasta que adivine la palabra o se le agoten los intentos.\n",
    "- Determina las condiciones de victoria y derrota del juego, y salgan del bucle cuando se cumplan estas condiciones.\n",
    "\n",
    "#### EXTRAS:\n",
    "- Utilizar la funcion random para seleccionar la palabra a adivinar de una lista de palabras.\n",
    "- Pregunta al usuario si son 2 o 1 jugador. Si són 2 jugadores que un jugador escriba la palabra a adivinar y que el otro la adivine. Si es sólo 1 jugador utilizar la función random.\n",
    "- Dibujar el ahorcado."
   ]
  }
 ],
 "metadata": {
  "language_info": {
   "name": "python"
  }
 },
 "nbformat": 4,
 "nbformat_minor": 2
}
