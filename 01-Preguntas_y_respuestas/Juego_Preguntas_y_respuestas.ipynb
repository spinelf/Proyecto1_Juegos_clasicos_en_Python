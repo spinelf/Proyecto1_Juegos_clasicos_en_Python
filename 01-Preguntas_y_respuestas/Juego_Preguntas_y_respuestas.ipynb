{
 "cells": [
  {
   "cell_type": "code",
   "execution_count": 1,
   "metadata": {},
   "outputs": [],
   "source": [
    "import random\n",
    "# variables juego:\n",
    "\n",
    "intentos_juego = 3\n",
    "ganador = 0\n",
    "\n",
    "listado_preguntas =  {\"¿Cuál es el río más largo de la Península Ibérica? a) Tajo b) Guadiana c) Ebro\" : \"a\",\n",
    " \"¿Cuál es el país más pequeño del mundo? a) Francia b) Portugal c) El Vaticano\" : \"c\", \n",
    " \"¿Cuántos océanos hay en la Tierra?  a) Cuatro b) Cinco c) Tres\" : \"b\",\n",
    " \"¿Qué país tiene más habitantes? a) España b) Austria c) China\" : \"c\",\n",
    " \"¿Qué país es el más grande del mundo? a) Rusia b) Hungría c) Italia.\" : \"a\",\n",
    " \"¿Cuál es la montaña más alta del mundo? a) Everest b) Kilimanjaro c) Teide\" : \"a\",\n",
    " \"¿Cuál es el río más largo del mundo? a) Nilo b) Amazonas c) Támesis\" : \"a\",\n",
    " \"¿Cuál es la capital de Francia?  a) Roma b) París c) Londres\" : \"b\",\n",
    " \"¿Dónde podemos ver las auroras boreales?  a) Finlandia b) Suiza c) Dinamarca\" : \"a\",\n",
    " \"¿Cuál es la capital de España? a) Barcelona b) Sevilla c) Madrid\" : \"c\"}"
   ]
  },
  {
   "cell_type": "code",
   "execution_count": null,
   "metadata": {},
   "outputs": [],
   "source": [
    "pregunta = random.choice(list(listado_preguntas.keys()))\n",
    "## listado_preguntas.pop(pregunta)\n",
    "respuesta = input(pregunta)\n",
    "\n",
    "for keys, values in listado_preguntas.items():\n",
    "    print(keys, values)"
   ]
  },
  {
   "cell_type": "code",
   "execution_count": null,
   "metadata": {},
   "outputs": [],
   "source": [
    "listado_preguntas[pregunta] "
   ]
  },
  {
   "cell_type": "code",
   "execution_count": null,
   "metadata": {},
   "outputs": [],
   "source": [
    "while intentos_juego > 0 or ganador == 5:\n",
    "    \n",
    "    if respuesta == listado_preguntas.get(pregunta):\n",
    "        ganador += 1\n",
    "        print(\"Has acertado la pregunta. Sigue jugando\")\n",
    "        \n",
    "    else:\n",
    "        intentos_juego -= 1\n",
    "        print(f\"Has fallado la pregunta. Te quedan {intentos_juego} intentos juego\")"
   ]
  }
 ],
 "metadata": {
  "kernelspec": {
   "display_name": "base",
   "language": "python",
   "name": "python3"
  },
  "language_info": {
   "codemirror_mode": {
    "name": "ipython",
    "version": 3
   },
   "file_extension": ".py",
   "mimetype": "text/x-python",
   "name": "python",
   "nbconvert_exporter": "python",
   "pygments_lexer": "ipython3",
   "version": "3.9.7"
  }
 },
 "nbformat": 4,
 "nbformat_minor": 2
}
