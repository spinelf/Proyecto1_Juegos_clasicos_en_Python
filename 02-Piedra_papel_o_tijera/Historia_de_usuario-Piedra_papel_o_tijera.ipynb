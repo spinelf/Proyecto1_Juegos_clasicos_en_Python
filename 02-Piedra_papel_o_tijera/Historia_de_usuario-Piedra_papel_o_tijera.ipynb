{
 "cells": [
  {
   "cell_type": "markdown",
   "metadata": {},
   "source": [
    "### PIEDRA, PAPEL O TIJERA\n",
    "\n",
    "#### DESCRIPCIÓN:\n",
    "- Dos jugadores eligen una de las tres opciones: \"Piedra\", \"Papel\" o \"Tijera\"\n",
    "- Se obtiene un punto por cada ronda ganada.\n",
    "- Gana el jugador que consiga 3 puntos.\n",
    "\n",
    "#### REGLAS DEL JUEGO:\n",
    "- Piedra vence a Tijera.\n",
    "- Tijera vence a Papel.\n",
    "- Papel vence a piedra\n",
    "\n",
    "#### CRITERIOS DE ACEPTACIÓN:\n",
    "- El segundo jugador debe de ser la computadora, utilizando el módulo random para la elección de la opción a jugar.\n",
    "- Determina el ganador de cada ronda y actualiza los puntos correspondientes.\n",
    "- Finaliza el juego cuando un jugador consiga 3 puntos.\n",
    "\n",
    "#### EXTRAS\n",
    "- Que le jugador introduzca su nombre\n",
    "- Enseña cuantos puntos tiene cada jugador despues de cada ronda\n",
    "- Mensaje al finalizar el juego. Enorabuena si ha ganado."
   ]
  }
 ],
 "metadata": {
  "language_info": {
   "name": "python"
  }
 },
 "nbformat": 4,
 "nbformat_minor": 2
}
